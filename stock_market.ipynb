{
  "nbformat": 4,
  "nbformat_minor": 0,
  "metadata": {
    "colab": {
      "name": "stock market.ipynb",
      "provenance": [],
      "authorship_tag": "ABX9TyOz9t+YII3Mym5Xf6UibqnE",
      "include_colab_link": true
    },
    "kernelspec": {
      "name": "python3",
      "display_name": "Python 3"
    }
  },
  "cells": [
    {
      "cell_type": "markdown",
      "metadata": {
        "id": "view-in-github",
        "colab_type": "text"
      },
      "source": [
        "<a href=\"https://colab.research.google.com/github/gtgindia/Google-Colab-ML/blob/master/stock_market.ipynb\" target=\"_parent\"><img src=\"https://colab.research.google.com/assets/colab-badge.svg\" alt=\"Open In Colab\"/></a>"
      ]
    },
    {
      "cell_type": "code",
      "metadata": {
        "id": "ra5IWKt-dSO4",
        "colab_type": "code",
        "colab": {}
      },
      "source": [
        "import numpy as np\n",
        "import matplotlib.pyplot as plt"
      ],
      "execution_count": 0,
      "outputs": []
    },
    {
      "cell_type": "code",
      "metadata": {
        "id": "xlHkWMOhkYLq",
        "colab_type": "code",
        "colab": {}
      },
      "source": [
        "import pandas as pd\n"
      ],
      "execution_count": 0,
      "outputs": []
    },
    {
      "cell_type": "code",
      "metadata": {
        "id": "CXMtwW0wkbSy",
        "colab_type": "code",
        "colab": {}
      },
      "source": [
        "df = pd.read_csv(\"/content/data_csv.csv\")"
      ],
      "execution_count": 0,
      "outputs": []
    },
    {
      "cell_type": "code",
      "metadata": {
        "id": "IEYCUPcHkmdH",
        "colab_type": "code",
        "outputId": "7e28f514-ef04-420c-fa46-cc16179ec9d9",
        "colab": {
          "base_uri": "https://localhost:8080/",
          "height": 306
        }
      },
      "source": [
        "df.head()"
      ],
      "execution_count": 0,
      "outputs": [
        {
          "output_type": "execute_result",
          "data": {
            "text/html": [
              "<div>\n",
              "<style scoped>\n",
              "    .dataframe tbody tr th:only-of-type {\n",
              "        vertical-align: middle;\n",
              "    }\n",
              "\n",
              "    .dataframe tbody tr th {\n",
              "        vertical-align: top;\n",
              "    }\n",
              "\n",
              "    .dataframe thead th {\n",
              "        text-align: right;\n",
              "    }\n",
              "</style>\n",
              "<table border=\"1\" class=\"dataframe\">\n",
              "  <thead>\n",
              "    <tr style=\"text-align: right;\">\n",
              "      <th></th>\n",
              "      <th>Date</th>\n",
              "      <th>SP500</th>\n",
              "      <th>Dividend</th>\n",
              "      <th>Earnings</th>\n",
              "      <th>Consumer Price Index</th>\n",
              "      <th>Long Interest Rate</th>\n",
              "      <th>Real Price</th>\n",
              "      <th>Real Dividend</th>\n",
              "      <th>Real Earnings</th>\n",
              "      <th>PE10</th>\n",
              "    </tr>\n",
              "  </thead>\n",
              "  <tbody>\n",
              "    <tr>\n",
              "      <th>0</th>\n",
              "      <td>1871-01-01</td>\n",
              "      <td>4.44</td>\n",
              "      <td>0.26</td>\n",
              "      <td>0.4</td>\n",
              "      <td>12.46</td>\n",
              "      <td>5.32</td>\n",
              "      <td>89.00</td>\n",
              "      <td>5.21</td>\n",
              "      <td>8.02</td>\n",
              "      <td>NaN</td>\n",
              "    </tr>\n",
              "    <tr>\n",
              "      <th>1</th>\n",
              "      <td>1871-02-01</td>\n",
              "      <td>4.50</td>\n",
              "      <td>0.26</td>\n",
              "      <td>0.4</td>\n",
              "      <td>12.84</td>\n",
              "      <td>5.32</td>\n",
              "      <td>87.53</td>\n",
              "      <td>5.06</td>\n",
              "      <td>7.78</td>\n",
              "      <td>NaN</td>\n",
              "    </tr>\n",
              "    <tr>\n",
              "      <th>2</th>\n",
              "      <td>1871-03-01</td>\n",
              "      <td>4.61</td>\n",
              "      <td>0.26</td>\n",
              "      <td>0.4</td>\n",
              "      <td>13.03</td>\n",
              "      <td>5.33</td>\n",
              "      <td>88.36</td>\n",
              "      <td>4.98</td>\n",
              "      <td>7.67</td>\n",
              "      <td>NaN</td>\n",
              "    </tr>\n",
              "    <tr>\n",
              "      <th>3</th>\n",
              "      <td>1871-04-01</td>\n",
              "      <td>4.74</td>\n",
              "      <td>0.26</td>\n",
              "      <td>0.4</td>\n",
              "      <td>12.56</td>\n",
              "      <td>5.33</td>\n",
              "      <td>94.29</td>\n",
              "      <td>5.17</td>\n",
              "      <td>7.96</td>\n",
              "      <td>NaN</td>\n",
              "    </tr>\n",
              "    <tr>\n",
              "      <th>4</th>\n",
              "      <td>1871-05-01</td>\n",
              "      <td>4.86</td>\n",
              "      <td>0.26</td>\n",
              "      <td>0.4</td>\n",
              "      <td>12.27</td>\n",
              "      <td>5.33</td>\n",
              "      <td>98.93</td>\n",
              "      <td>5.29</td>\n",
              "      <td>8.14</td>\n",
              "      <td>NaN</td>\n",
              "    </tr>\n",
              "  </tbody>\n",
              "</table>\n",
              "</div>"
            ],
            "text/plain": [
              "         Date  SP500  Dividend  ...  Real Dividend  Real Earnings  PE10\n",
              "0  1871-01-01   4.44      0.26  ...           5.21           8.02   NaN\n",
              "1  1871-02-01   4.50      0.26  ...           5.06           7.78   NaN\n",
              "2  1871-03-01   4.61      0.26  ...           4.98           7.67   NaN\n",
              "3  1871-04-01   4.74      0.26  ...           5.17           7.96   NaN\n",
              "4  1871-05-01   4.86      0.26  ...           5.29           8.14   NaN\n",
              "\n",
              "[5 rows x 10 columns]"
            ]
          },
          "metadata": {
            "tags": []
          },
          "execution_count": 54
        }
      ]
    },
    {
      "cell_type": "code",
      "metadata": {
        "id": "uA5dsn3pkypa",
        "colab_type": "code",
        "colab": {}
      },
      "source": [
        "df['returns'] = 0\n",
        "for i in range(1, len(df)):\n",
        "    df.loc[i, 'returns'] = ((df.loc[i, 'SP500'] - df.loc[i-1, 'SP500'] )/ df.loc[i-1, 'SP500'])*1200"
      ],
      "execution_count": 0,
      "outputs": []
    },
    {
      "cell_type": "code",
      "metadata": {
        "id": "YLmK-8LyrvMj",
        "colab_type": "code",
        "outputId": "bda5d63d-c0eb-4ea7-ce0f-3b1f5f696adb",
        "colab": {
          "base_uri": "https://localhost:8080/",
          "height": 221
        }
      },
      "source": [
        "df.returns"
      ],
      "execution_count": 0,
      "outputs": [
        {
          "output_type": "execute_result",
          "data": {
            "text/plain": [
              "0        0.000000\n",
              "1       16.216216\n",
              "2       29.333333\n",
              "3       33.839479\n",
              "4       30.379747\n",
              "          ...    \n",
              "1763    32.725043\n",
              "1764    56.506302\n",
              "1765   -36.406911\n",
              "1766    -1.060196\n",
              "1767   -26.896850\n",
              "Name: returns, Length: 1768, dtype: float64"
            ]
          },
          "metadata": {
            "tags": []
          },
          "execution_count": 69
        }
      ]
    },
    {
      "cell_type": "code",
      "metadata": {
        "id": "viwedCGKryc5",
        "colab_type": "code",
        "outputId": "9a174a25-9815-4538-b96f-586930dcfdc9",
        "colab": {
          "base_uri": "https://localhost:8080/",
          "height": 430
        }
      },
      "source": [
        "from matplotlib.pyplot import figure\n",
        "figure(num=None, figsize=(8, 6), dpi=80, facecolor='w', edgecolor='k')\n",
        "plt.xlim([-96, 96])\n",
        "df.returns.plot.kde()"
      ],
      "execution_count": 0,
      "outputs": [
        {
          "output_type": "execute_result",
          "data": {
            "text/plain": [
              "<matplotlib.axes._subplots.AxesSubplot at 0x7f3974b72208>"
            ]
          },
          "metadata": {
            "tags": []
          },
          "execution_count": 81
        },
        {
          "output_type": "display_data",
          "data": {
            "image/png": "[encoded data removed]",
            "text/plain": [
              "<Figure size 640x480 with 1 Axes>"
            ]
          },
          "metadata": {
            "tags": []
          }
        }
      ]
    },
    {
      "cell_type": "code",
      "metadata": {
        "id": "WvcIFb3yvyYy",
        "colab_type": "code",
        "outputId": "7392ab42-2f76-4ead-8643-ab19b3c327d5",
        "colab": {
          "base_uri": "https://localhost:8080/",
          "height": 170
        }
      },
      "source": [
        "df.returns.describe()"
      ],
      "execution_count": 0,
      "outputs": [
        {
          "output_type": "execute_result",
          "data": {
            "text/plain": [
              "count    1768.000000\n",
              "mean        5.327754\n",
              "std        48.693709\n",
              "min      -317.684887\n",
              "25%       -18.151463\n",
              "50%         7.461533\n",
              "75%        32.766364\n",
              "max       603.592814\n",
              "Name: returns, dtype: float64"
            ]
          },
          "metadata": {
            "tags": []
          },
          "execution_count": 77
        }
      ]
    },
    {
      "cell_type": "code",
      "metadata": {
        "id": "1oxCxOFEzDPu",
        "colab_type": "code",
        "colab": {}
      },
      "source": [
        "import scipy.stats as st\n",
        "def get_best_distribution(data):\n",
        "    dist_names = [\"norm\", \"exponweib\", \"weibull_max\", \"weibull_min\", \"pareto\", \"genextreme\",\"powerlaw\"]\n",
        "    dist_results = []\n",
        "    params = {}\n",
        "    for dist_name in dist_names:\n",
        "        dist = getattr(st, dist_name)\n",
        "        param = dist.fit(data)\n",
        "\n",
        "        params[dist_name] = param\n",
        "        # Applying the Kolmogorov-Smirnov test\n",
        "        D, p = st.kstest(data, dist_name, args=param)\n",
        "        print(\"p value for \"+dist_name+\" = \"+str(p))\n",
        "        dist_results.append((dist_name, p))\n",
        "\n",
        "    # select the best fitted distribution\n",
        "    best_dist, best_p = (max(dist_results, key=lambda item: item[1]))\n",
        "    # store the name of the best fit and its p value\n",
        "\n",
        "    print(\"Best fitting distribution: \"+str(best_dist))\n",
        "    print(\"Best p value: \"+ str(best_p))\n",
        "    print(\"Parameters for the best fit: \"+ str(params[best_dist]))\n",
        "\n",
        "    return best_dist, best_p, params[best_dist]"
      ],
      "execution_count": 0,
      "outputs": []
    },
    {
      "cell_type": "code",
      "metadata": {
        "id": "cYfvygssIJ4p",
        "colab_type": "code",
        "outputId": "c4793f84-df50-4cf2-f3e4-285670917435",
        "colab": {
          "base_uri": "https://localhost:8080/",
          "height": 258
        }
      },
      "source": [
        "get_best_distribution(df.returns)"
      ],
      "execution_count": 0,
      "outputs": [
        {
          "output_type": "stream",
          "text": [
            "p value for norm = 1.368937594469497e-07\n",
            "p value for exponweib = 1.588056188727478e-86\n",
            "p value for weibull_max = 0.0\n",
            "p value for weibull_min = 0.0\n",
            "p value for pareto = 0.0\n"
          ],
          "name": "stdout"
        },
        {
          "output_type": "stream",
          "text": [
            "/usr/local/lib/python3.6/dist-packages/scipy/stats/_distn_infrastructure.py:2407: RuntimeWarning: invalid value encountered in double_scalars\n",
            "  Lhat = muhat - Shat*mu\n"
          ],
          "name": "stderr"
        },
        {
          "output_type": "stream",
          "text": [
            "p value for genextreme = 0.0\n",
            "p value for powerlaw = 0.0\n",
            "Best fitting distribution: norm\n",
            "Best p value: 1.368937594469497e-07\n",
            "Parameters for the best fit: (5.327754188634, 48.67993573003641)\n"
          ],
          "name": "stdout"
        },
        {
          "output_type": "execute_result",
          "data": {
            "text/plain": [
              "('norm', 1.368937594469497e-07, (5.327754188634, 48.67993573003641))"
            ]
          },
          "metadata": {
            "tags": []
          },
          "execution_count": 90
        }
      ]
    },
    {
      "cell_type": "code",
      "metadata": {
        "id": "aGzmrQtqJ2ay",
        "colab_type": "code",
        "outputId": "401b0c7b-b6d0-4e99-f601-d3db7122e3e1",
        "colab": {
          "base_uri": "https://localhost:8080/",
          "height": 34
        }
      },
      "source": [
        "!python levy.py install"
      ],
      "execution_count": 0,
      "outputs": [
        {
          "output_type": "stream",
          "text": [
            "python3: can't open file 'levy.py': [Errno 2] No such file or directory\n"
          ],
          "name": "stdout"
        }
      ]
    },
    {
      "cell_type": "code",
      "metadata": {
        "id": "orMgyOVOO0wS",
        "colab_type": "code",
        "colab": {}
      },
      "source": [
        ""
      ],
      "execution_count": 0,
      "outputs": []
    }
  ]
}