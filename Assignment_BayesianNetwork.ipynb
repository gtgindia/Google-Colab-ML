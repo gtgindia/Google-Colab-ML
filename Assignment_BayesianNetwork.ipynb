{
  "nbformat": 4,
  "nbformat_minor": 0,
  "metadata": {
    "colab": {
      "name": "Assignment_BayesianNetwork.ipynb",
      "provenance": [],
      "collapsed_sections": [],
      "authorship_tag": "ABX9TyMReqZTKDDL89E5LA75+FSh",
      "include_colab_link": true
    },
    "kernelspec": {
      "name": "python3",
      "display_name": "Python 3"
    }
  },
  "cells": [
    {
      "cell_type": "markdown",
      "metadata": {
        "id": "view-in-github",
        "colab_type": "text"
      },
      "source": [
        "<a href=\"https://colab.research.google.com/github/gtgindia/Google-Colab-ML/blob/master/Assignment_BayesianNetwork.ipynb\" target=\"_parent\"><img src=\"https://colab.research.google.com/assets/colab-badge.svg\" alt=\"Open In Colab\"/></a>"
      ]
    },
    {
      "cell_type": "code",
      "metadata": {
        "id": "cPUNFnhF6ozH",
        "colab_type": "code",
        "outputId": "91841261-74e1-41d7-9b41-014b019a1d85",
        "colab": {
          "base_uri": "https://localhost:8080/",
          "height": 360
        }
      },
      "source": [
        "!pip install pgmpy"
      ],
      "execution_count": 0,
      "outputs": [
        {
          "output_type": "stream",
          "text": [
            "Collecting pgmpy\n",
            "\u001b[?25l  Downloading https://files.pythonhosted.org/packages/68/6b/661a65aa7788f3aff7228ba81625c540917d656f41e3eb031c6d60b0a25d/pgmpy-0.1.10-py3-none-any.whl (339kB)\n",
            "\u001b[K     |████████████████████████████████| 348kB 2.7MB/s \n",
            "\u001b[?25hRequirement already satisfied: networkx in /usr/local/lib/python3.6/dist-packages (from pgmpy) (2.4)\n",
            "Requirement already satisfied: torch in /usr/local/lib/python3.6/dist-packages (from pgmpy) (1.4.0)\n",
            "Requirement already satisfied: numpy in /usr/local/lib/python3.6/dist-packages (from pgmpy) (1.18.2)\n",
            "Requirement already satisfied: pyparsing in /usr/local/lib/python3.6/dist-packages (from pgmpy) (2.4.6)\n",
            "Requirement already satisfied: statsmodels in /usr/local/lib/python3.6/dist-packages (from pgmpy) (0.10.2)\n",
            "Requirement already satisfied: joblib in /usr/local/lib/python3.6/dist-packages (from pgmpy) (0.14.1)\n",
            "Requirement already satisfied: tqdm in /usr/local/lib/python3.6/dist-packages (from pgmpy) (4.38.0)\n",
            "Requirement already satisfied: scipy in /usr/local/lib/python3.6/dist-packages (from pgmpy) (1.4.1)\n",
            "Requirement already satisfied: pandas in /usr/local/lib/python3.6/dist-packages (from pgmpy) (1.0.3)\n",
            "Requirement already satisfied: decorator>=4.3.0 in /usr/local/lib/python3.6/dist-packages (from networkx->pgmpy) (4.4.2)\n",
            "Requirement already satisfied: patsy>=0.4.0 in /usr/local/lib/python3.6/dist-packages (from statsmodels->pgmpy) (0.5.1)\n",
            "Requirement already satisfied: python-dateutil>=2.6.1 in /usr/local/lib/python3.6/dist-packages (from pandas->pgmpy) (2.8.1)\n",
            "Requirement already satisfied: pytz>=2017.2 in /usr/local/lib/python3.6/dist-packages (from pandas->pgmpy) (2018.9)\n",
            "Requirement already satisfied: six in /usr/local/lib/python3.6/dist-packages (from patsy>=0.4.0->statsmodels->pgmpy) (1.12.0)\n",
            "Installing collected packages: pgmpy\n",
            "Successfully installed pgmpy-0.1.10\n"
          ],
          "name": "stdout"
        }
      ]
    },
    {
      "cell_type": "code",
      "metadata": {
        "id": "X35aDiwD6vza",
        "colab_type": "code",
        "colab": {}
      },
      "source": [
        "from pgmpy.models import BayesianModel\n",
        "from pgmpy.factors.discrete import TabularCPD\n",
        "from pgmpy.inference import VariableElimination\n",
        "import numpy as np"
      ],
      "execution_count": 0,
      "outputs": []
    },
    {
      "cell_type": "markdown",
      "metadata": {
        "id": "fM4DTk7i_sa8",
        "colab_type": "text"
      },
      "source": [
        "# Setting up your model"
      ]
    },
    {
      "cell_type": "markdown",
      "metadata": {
        "id": "WFofrp6X_tX2",
        "colab_type": "text"
      },
      "source": [
        "### First, set the structure"
      ]
    },
    {
      "cell_type": "code",
      "metadata": {
        "id": "4SwtgcJ56xZa",
        "colab_type": "code",
        "colab": {}
      },
      "source": [
        "bayesNet = BayesianModel()\n",
        "bayesNet.add_node(\"B\")\n",
        "bayesNet.add_node(\"A\")\n",
        "bayesNet.add_node(\"R\")\n",
        "\n",
        "bayesNet.add_node(\"S\")\n",
        "\n",
        "bayesNet.add_edge(\"B\", \"A\")\n",
        "bayesNet.add_edge(\"B\", \"R\")\n",
        "bayesNet.add_edge(\"A\", \"S\")\n",
        "\n",
        "bayesNet.add_edge(\"R\", \"S\")"
      ],
      "execution_count": 0,
      "outputs": []
    },
    {
      "cell_type": "markdown",
      "metadata": {
        "id": "sifXu4Mo_2hw",
        "colab_type": "text"
      },
      "source": [
        "### Then set up the relationships"
      ]
    },
    {
      "cell_type": "code",
      "metadata": {
        "id": "EaAMe9hh7Aji",
        "colab_type": "code",
        "colab": {}
      },
      "source": [
        "cpd_B = TabularCPD('B', 2, values=[[.50], [.50]])\n",
        "cpd_R = TabularCPD('R', 2, values=[[.2,.7], [.8,.3]],evidence=['B'], evidence_card=[2])\n",
        "cpd_A = TabularCPD('A', 2, values=[[.5,.9], [.5,.1]],evidence=['B'], evidence_card=[2])\n",
        "cpd_S = TabularCPD('S', 2, values=[[0, .4, .2, 1], [1, .6, .8, 0]],\n",
        "                   evidence=['R', 'A'], evidence_card=[2, 2])"
      ],
      "execution_count": 0,
      "outputs": []
    },
    {
      "cell_type": "markdown",
      "metadata": {
        "id": "SxhxAsg0__Ki",
        "colab_type": "text"
      },
      "source": [
        "### Add the relationships to your models"
      ]
    },
    {
      "cell_type": "code",
      "metadata": {
        "id": "OpK0Itbf83OA",
        "colab_type": "code",
        "colab": {}
      },
      "source": [
        "bayesNet.add_cpds(cpd_B, cpd_R, cpd_A, cpd_S )"
      ],
      "execution_count": 0,
      "outputs": []
    },
    {
      "cell_type": "markdown",
      "metadata": {
        "id": "LnwluG74ABvk",
        "colab_type": "text"
      },
      "source": [
        "### Examine your graph"
      ]
    },
    {
      "cell_type": "code",
      "metadata": {
        "id": "hXNf-shP9CZM",
        "colab_type": "code",
        "outputId": "b14ac33c-fc4e-46ea-94b9-912d71b06bfa",
        "colab": {
          "base_uri": "https://localhost:8080/",
          "height": 34
        }
      },
      "source": [
        "bayesNet.check_model()\n",
        "print(\"Model is correct.\")"
      ],
      "execution_count": 0,
      "outputs": [
        {
          "output_type": "stream",
          "text": [
            "Model is correct.\n"
          ],
          "name": "stdout"
        }
      ]
    },
    {
      "cell_type": "markdown",
      "metadata": {
        "id": "x8HtdMnYANC3",
        "colab_type": "text"
      },
      "source": [
        "# Making inferences"
      ]
    },
    {
      "cell_type": "code",
      "metadata": {
        "id": "61WTQ8Ty9Jb6",
        "colab_type": "code",
        "colab": {}
      },
      "source": [
        "solver = VariableElimination(bayesNet)"
      ],
      "execution_count": 0,
      "outputs": []
    },
    {
      "cell_type": "code",
      "metadata": {
        "id": "yg3_740P9OaD",
        "colab_type": "code",
        "outputId": "909de3f3-894b-4543-a785-d6b026adfbc2",
        "colab": {
          "base_uri": "https://localhost:8080/",
          "height": 170
        }
      },
      "source": [
        "result = solver.query(variables=['A'])\n",
        "print(\"S| B\", result)\n"
      ],
      "execution_count": 0,
      "outputs": [
        {
          "output_type": "stream",
          "text": [
            "Finding Elimination Order: : 100%|██████████| 3/3 [00:00<00:00, 1837.19it/s]\n",
            "Eliminating: B: 100%|██████████| 3/3 [00:00<00:00, 461.98it/s]"
          ],
          "name": "stderr"
        },
        {
          "output_type": "stream",
          "text": [
            "S| B +------+----------+\n",
            "| A    |   phi(A) |\n",
            "+======+==========+\n",
            "| A(0) |   0.7000 |\n",
            "+------+----------+\n",
            "| A(1) |   0.3000 |\n",
            "+------+----------+\n"
          ],
          "name": "stdout"
        },
        {
          "output_type": "stream",
          "text": [
            "\n"
          ],
          "name": "stderr"
        }
      ]
    },
    {
      "cell_type": "code",
      "metadata": {
        "id": "ywcZBsGS913H",
        "colab_type": "code",
        "outputId": "1e922dbb-bf89-4bf7-908d-00a680cd3f6c",
        "colab": {
          "base_uri": "https://localhost:8080/",
          "height": 170
        }
      },
      "source": [
        "result = solver.query(variables=['R'], evidence={'S': 1})\n",
        "print(\"R| S\", result)"
      ],
      "execution_count": 0,
      "outputs": [
        {
          "output_type": "stream",
          "text": [
            "Finding Elimination Order: : 100%|██████████| 2/2 [00:00<00:00, 377.76it/s]\n",
            "Eliminating: B: 100%|██████████| 2/2 [00:00<00:00, 429.19it/s]"
          ],
          "name": "stderr"
        },
        {
          "output_type": "stream",
          "text": [
            "R| S +------+----------+\n",
            "| R    |   phi(R) |\n",
            "+======+==========+\n",
            "| R(0) |   0.6082 |\n",
            "+------+----------+\n",
            "| R(1) |   0.3918 |\n",
            "+------+----------+\n"
          ],
          "name": "stdout"
        },
        {
          "output_type": "stream",
          "text": [
            "\n"
          ],
          "name": "stderr"
        }
      ]
    },
    {
      "cell_type": "code",
      "metadata": {
        "id": "89LP6gVI-26_",
        "colab_type": "code",
        "outputId": "114b837f-904c-4497-a133-6baced496282",
        "colab": {
          "base_uri": "https://localhost:8080/",
          "height": 170
        }
      },
      "source": [
        "result = solver.query(variables=['A'], evidence={'S': 1})\n",
        "print(\"A| S\", result)"
      ],
      "execution_count": 0,
      "outputs": [
        {
          "output_type": "stream",
          "text": [
            "Finding Elimination Order: : 100%|██████████| 2/2 [00:00<00:00, 529.75it/s]\n",
            "Eliminating: B: 100%|██████████| 2/2 [00:00<00:00, 506.62it/s]"
          ],
          "name": "stderr"
        },
        {
          "output_type": "stream",
          "text": [
            "A| S +------+----------+\n",
            "| A    |   phi(A) |\n",
            "+======+==========+\n",
            "| A(0) |   0.9254 |\n",
            "+------+----------+\n",
            "| A(1) |   0.0746 |\n",
            "+------+----------+\n"
          ],
          "name": "stdout"
        },
        {
          "output_type": "stream",
          "text": [
            "\n"
          ],
          "name": "stderr"
        }
      ]
    },
    {
      "cell_type": "markdown",
      "metadata": {
        "id": "naPrU36eAP9O",
        "colab_type": "text"
      },
      "source": [
        "### Get all independencies"
      ]
    },
    {
      "cell_type": "code",
      "metadata": {
        "id": "bgMZlhkG_XYd",
        "colab_type": "code",
        "outputId": "564b9bbd-f32a-4539-cbad-0ee235b3218f",
        "colab": {
          "base_uri": "https://localhost:8080/",
          "height": 85
        }
      },
      "source": [
        "bayesNet.get_independencies()"
      ],
      "execution_count": 0,
      "outputs": [
        {
          "output_type": "execute_result",
          "data": {
            "text/plain": [
              "(B _|_ S | R, A)\n",
              "(A _|_ R | B)\n",
              "(R _|_ A | B)\n",
              "(S _|_ B | R, A)"
            ]
          },
          "metadata": {
            "tags": []
          },
          "execution_count": 17
        }
      ]
    }
  ]
}