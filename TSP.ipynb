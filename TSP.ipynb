{
  "nbformat": 4,
  "nbformat_minor": 0,
  "metadata": {
    "colab": {
      "name": "TSP",
      "provenance": [],
      "collapsed_sections": [],
      "authorship_tag": "ABX9TyMXmLn9yTYgtATR8h4jISA3",
      "include_colab_link": true
    },
    "kernelspec": {
      "name": "python3",
      "display_name": "Python 3"
    }
  },
  "cells": [
    {
      "cell_type": "markdown",
      "metadata": {
        "id": "view-in-github",
        "colab_type": "text"
      },
      "source": [
        "<a href=\"https://colab.research.google.com/github/gtgindia/Google-Colab-ML/blob/master/TSP.ipynb\" target=\"_parent\"><img src=\"https://colab.research.google.com/assets/colab-badge.svg\" alt=\"Open In Colab\"/></a>"
      ]
    },
    {
      "cell_type": "code",
      "metadata": {
        "id": "J0f_s9UYIGg9",
        "colab_type": "code",
        "outputId": "011c9255-301e-4835-a3a0-b9e1041489ce",
        "colab": {
          "base_uri": "https://localhost:8080/",
          "height": 51
        }
      },
      "source": [
        "!pip install networkx"
      ],
      "execution_count": 0,
      "outputs": [
        {
          "output_type": "stream",
          "text": [
            "Requirement already satisfied: networkx in /usr/local/lib/python3.6/dist-packages (2.4)\n",
            "Requirement already satisfied: decorator>=4.3.0 in /usr/local/lib/python3.6/dist-packages (from networkx) (4.4.2)\n"
          ],
          "name": "stdout"
        }
      ]
    },
    {
      "cell_type": "code",
      "metadata": {
        "id": "DnYMY_giH1Iw",
        "colab_type": "code",
        "colab": {}
      },
      "source": [
        "import networkx as nx\n",
        "from itertools import permutations\n",
        "\n",
        "# This function takes as input a graph g and a list of vertices of the cycle.\n",
        "# (Each vertex given by its index starting from 0.)\n",
        "# The graph is complete (i.e., each pair of distinct vertices is connected by an edge),\n",
        "# undirected (i.e., the edge from u to v has the same weight as the edge from v to u),\n",
        "# and has no self-loops (i.e., there are no edges from i to i).\n",
        "#\n",
        "# For example, a valid input would be a graph on 3 vertices and cycle = [2, 0, 1].\n",
        "#\n",
        "# The function should return the weight of the cycle.\n",
        "# (Don't forget to add up the last edge connecting the last vertex of the cycle with the first one.)\n",
        "#\n",
        "# If you want to get the weight of the edge between vertices u and v, you can take g[u][v]['weight']\n",
        "\n",
        "\n",
        "def cycle_length(g, cycle):\n",
        "    # Checking that the number of vertices in the graph equals the number of vertices in the cycle.\n",
        "    assert len(cycle) == g.number_of_nodes()\n",
        "    \n",
        "    \n",
        "    m = len(cycle)\n",
        "    cl=0\n",
        "    for i in range(len(cycle)-1):\n",
        "      cl = cl + g[cycle[i]][cycle[i+1]]['weight']\n",
        "    cl = cl + g[cycle[m-1]][cycle[0]]['weight']\n",
        "    \n",
        "\n",
        "    return cl\n"
      ],
      "execution_count": 0,
      "outputs": []
    },
    {
      "cell_type": "code",
      "metadata": {
        "id": "lmyQMF6ScFo1",
        "colab_type": "code",
        "colab": {}
      },
      "source": [
        "def all_permutations(g):\n",
        "\n",
        "    # n is the number of vertices.\n",
        "    n = g.number_of_nodes()\n",
        "    l =[]\n",
        "    # Iterate through all permutations of n vertices\n",
        "    for p in permutations(range(n)):\n",
        "        \n",
        "        l.append(cycle_length(g,p))\n",
        "\n",
        "\n",
        "\n",
        "    return min(l)\n",
        "    \n"
      ],
      "execution_count": 0,
      "outputs": []
    },
    {
      "cell_type": "code",
      "metadata": {
        "id": "0ol5jt-iiyzT",
        "colab_type": "code",
        "colab": {}
      },
      "source": [
        "def average(g):\n",
        "    # n is the number of vertices.\n",
        "    n = g.number_of_nodes()\n",
        "\n",
        "    # Sum of weights of all n*(n-1)/2 edges.\n",
        "    sum_of_weights = sum(g[i][j]['weight'] for i in range(n) for j in range(i))\n",
        "\n",
        "    \n",
        "    return (2*sum_of_weights)/(n-1)"
      ],
      "execution_count": 0,
      "outputs": []
    },
    {
      "cell_type": "code",
      "metadata": {
        "id": "YSj8oejIpsP0",
        "colab_type": "code",
        "colab": {}
      },
      "source": [
        "def nearest_neighbors(g):\n",
        "    current_node = 0\n",
        "    path = [current_node]\n",
        "    n = g.number_of_nodes()\n",
        "\n",
        "    # We'll repeat the same routine (n-1) times\n",
        "    for _ in range(n - 1):\n",
        "        next_node = None\n",
        "        # The distance to the closest vertex. Initialized with infinity.\n",
        "        min_edge = float(\"inf\")\n",
        "        for v in g.nodes():\n",
        "          if(current_node==v):\n",
        "            continue\n",
        "          elif(v in path):\n",
        "            continue\n",
        "          elif(g[current_node][v]['weight']< min_edge):\n",
        "            next_node = v\n",
        "            min_edge = g[current_node][v]['weight']\n",
        "            \n",
        "            #  decide if v is a better candidate than next_node.\n",
        "            # If it is, then update the values of next_node and min_edge\n",
        "\n",
        "        assert next_node is not None\n",
        "        path.append(next_node)\n",
        "        current_node = next_node\n",
        "        \n",
        "\n",
        "    weight = sum(g[path[i]][path[i + 1]]['weight'] for i in range(g.number_of_nodes() - 1))\n",
        "    weight += g[path[-1]][path[0]]['weight']\n",
        "    return weight"
      ],
      "execution_count": 0,
      "outputs": []
    },
    {
      "cell_type": "code",
      "metadata": {
        "id": "loWUDwJBfL_a",
        "colab_type": "code",
        "colab": {}
      },
      "source": [
        "# This function computes a lower bound on the length of Hamiltonian cycles starting with vertices in the list sub_cycle.\n",
        "# I would recommend to first see the branch_and_bound function below, and then return to lower_bound.\n",
        "def lower_bound(g, sub_cycle):\n",
        "    # The weight of the current path.\n",
        "    current_weight = sum([g[sub_cycle[i]][sub_cycle[i + 1]]['weight'] for i in range(len(sub_cycle) - 1)])\n",
        "\n",
        "    # For convenience we create a new graph which only contains vertices not used by g.\n",
        "    unused = [v for v in g.nodes() if v not in sub_cycle]\n",
        "    h = g.subgraph(unused)\n",
        "    \n",
        "\n",
        "    # Compute the weight of a minimum spanning tree.\n",
        "    t = list(nx.minimum_spanning_edges(h))\n",
        "    mst_weight = sum([h.get_edge_data(e[0], e[1])['weight'] for e in t])\n",
        "\n",
        "    # If the current sub_cycle is \"trivial\" (i.e., it contains no vertices or all vertices), then our lower bound is\n",
        "    # just the sum of the weight of a minimum spanning tree and the current weight.\n",
        "    if len(sub_cycle) == 0 or len(sub_cycle) == g.number_of_nodes():\n",
        "        return mst_weight + current_weight\n",
        "\n",
        "    # If the current sub_cycle is not trivial, then we can also add the weight of two edges connecting the vertices\n",
        "    # from sub_cycle and the remaining part of the graph.\n",
        "    # s is the first vertex of the sub_cycle\n",
        "    s = sub_cycle[0]\n",
        "    # t is the last vertex of the sub_cycle\n",
        "    t = sub_cycle[-1]\n",
        "    # The minimum weight of an edge connecting a vertex from outside of sub_sycle to s.\n",
        "    min_to_s_weight = min([g[v][s]['weight'] for v in g.nodes() if v not in sub_cycle])\n",
        "    # The minimum weight of an edge connecting the vertex t to a vertex from outside of sub_cycle.\n",
        "    min_from_t_weight = min([g[t][v]['weight'] for v in g.nodes() if v not in sub_cycle])\n",
        "\n",
        "    # Any cycle which starts with sub_cycle must be of length:\n",
        "    # the weight of the edges from sub_cycle +\n",
        "    # the minimum weight of an edge connecting sub_cycle and the remaining vertices +\n",
        "    # the minimum weight of a spanning tree on the remaining vertices +\n",
        "    # the minimum weight of an edge connecting the remaining vertices to sub_cycle.\n",
        "    return current_weight + min_from_t_weight + mst_weight + min_to_s_weight\n",
        "\n",
        "\n",
        "# The branch and bound procedure takes\n",
        "# 1. a graph g;\n",
        "# 2. the current sub_cycle, i.e. several first vertices of cycle under consideration.\n",
        "# Initially sub_cycle is empty;\n",
        "# 3. currently best solution current_min, so that we don't even consider paths of greater weight.\n",
        "# Initially the min weight is infinite\n",
        "def branch_and_bound(g, sub_cycle=None, current_min=float(\"inf\")):\n",
        "    # If the current path is empty, then we can safely assume that it starts with the vertex 0.\n",
        "    if sub_cycle is None:\n",
        "        sub_cycle = [0]\n",
        "\n",
        "    # If we already have all vertices in the cycle, then we just compute the weight of this cycle and return it.\n",
        "    if len(sub_cycle) == g.number_of_nodes():\n",
        "        weight = sum([g[sub_cycle[i]][sub_cycle[i + 1]]['weight'] for i in range(len(sub_cycle) - 1)])\n",
        "        weight = weight + g[sub_cycle[-1]][sub_cycle[0]]['weight']\n",
        "        return weight\n",
        "\n",
        "    # Now we look at all nodes which aren't yet used in sub_cycle.\n",
        "    unused_nodes = list()\n",
        "    for v in g.nodes():\n",
        "        if v not in sub_cycle:\n",
        "            unused_nodes.append((g[sub_cycle[-1]][v]['weight'], v))\n",
        "\n",
        "    # We sort them by the distance from the \"current node\" -- the last node in sub_cycle.\n",
        "    unused_nodes = sorted(unused_nodes)\n",
        "\n",
        "    for (d, v) in unused_nodes:\n",
        "        assert v not in sub_cycle\n",
        "        extended_subcycle = list(sub_cycle)\n",
        "        extended_subcycle.append(v)\n",
        "        print(extended_subcycle)\n",
        "        # For each unused vertex, we check if there is any chance to find a shorter cycle if we add it now.\n",
        "        if lower_bound(g, extended_subcycle) < current_min:\n",
        "            print(extended_subcycle)\n",
        "          \n",
        "            sub_cycle =  extended_subcycle\n",
        "          \n",
        "            # If there is such a chance, we add the vertex to the current cycle, and proceed recursively.\n",
        "            # If we found a short cycle, then we update the current_min value.\n",
        "\n",
        "\n",
        "    # The procedure returns the shortest cycle length.\n",
        "    return cycle_length(g,sub_cycle)\n"
      ],
      "execution_count": 0,
      "outputs": []
    },
    {
      "cell_type": "code",
      "metadata": {
        "id": "hWXIw76UFD0i",
        "colab_type": "code",
        "colab": {}
      },
      "source": [
        "import networkx as nx\n",
        "\n",
        "# This function takes as input a graph g.\n",
        "# The graph is complete (i.e., each pair of distinct vertices is connected by an edge),\n",
        "# undirected (i.e., the edge from u to v has the same weight as the edge from v to u),\n",
        "# and has no self-loops (i.e., there are no edges from i to i).\n",
        "#\n",
        "# The function should return a 2-approximation of an optimal Hamiltonian cycle.\n",
        "\n",
        "def approximation(g):\n",
        "    # n is the number of vertices.\n",
        "    n = g.number_of_nodes()\n",
        "    mst = nx.minimum_spanning_tree(g)\n",
        "    dfpre = list(nx.dfs_preorder_nodes(mst, 0))\n",
        "\n",
        "\n",
        "    return cycle_length(g, dfpre)\n",
        "\n"
      ],
      "execution_count": 0,
      "outputs": []
    },
    {
      "cell_type": "code",
      "metadata": {
        "id": "pqgmltKCIAen",
        "colab_type": "code",
        "outputId": "1f15a3fb-cb76-4761-c267-e935d24bde26",
        "colab": {
          "base_uri": "https://localhost:8080/",
          "height": 238
        }
      },
      "source": [
        "\n",
        "\n",
        "\n",
        "g = nx.Graph()\n",
        "# Now we will add 6 edges between 4 vertices\n",
        "g.add_edge(0, 1, weight = 2)\n",
        "# We work with undirected graphs, so once we add an edge from 0 to 1, it automatically creates an edge of the same weight from 1 to 0.\n",
        "g.add_edge(1, 2, weight = 2)\n",
        "g.add_edge(2, 3, weight = 2)\n",
        "g.add_edge(3, 0, weight = 2)\n",
        "g.add_edge(0, 2, weight = 1)\n",
        "g.add_edge(1, 3, weight = 1)\n",
        "\n",
        "# Now we want to compute the lengths of two cycles:\n",
        "cycle1 = [0, 1, 2, 3]\n",
        "cycle2 = [0, 2, 1, 3]\n",
        "\n",
        "\n",
        "\n",
        "print(\"Lenght of cycle1 is  :\",cycle_length(g,cycle1))\n",
        "print(\"Lenght of cycle2 is  :\",cycle_length(g,cycle2))\n",
        "print(\"Mnimum Length cycle by brute force method is :\",all_permutations(g))\n",
        "print(\"Average Hamiltonian Distance in the graph is   :\",average(g))\n",
        "print(\"Mnimum Length cycle by nearest neighbors method is :\",nearest_neighbors(g))\n",
        "print(\"Minimum Lngth cycle by branch and bound method is  :\",branch_and_bound(g))\n",
        "print(\"Minimum Lngth cycle by 2-Appox method is  :\",approximation(g))"
      ],
      "execution_count": 12,
      "outputs": [
        {
          "output_type": "stream",
          "text": [
            "Lenght of cycle1 is  : 8\n",
            "Lenght of cycle2 is  : 6\n",
            "Mnimum Length cycle by brute force method is : 6\n",
            "Average Hamiltonian Distance in the graph is   : 6.666666666666667\n",
            "Mnimum Length cycle by nearest neighbors method is : 6\n",
            "[0, 2]\n",
            "[0, 2]\n",
            "[0, 2, 1]\n",
            "[0, 2, 1]\n",
            "[0, 2, 1, 3]\n",
            "[0, 2, 1, 3]\n",
            "Minimum Lngth cycle by branch and bound method is  : 6\n",
            "Minimum Lngth cycle by 2-Appox method is  : 6\n"
          ],
          "name": "stdout"
        }
      ]
    },
    {
      "cell_type": "code",
      "metadata": {
        "id": "4BQ545PsI0Q4",
        "colab_type": "code",
        "outputId": "0875f6fd-bbf7-44d0-c7b5-84ec718390d7",
        "colab": {
          "base_uri": "https://localhost:8080/",
          "height": 34
        }
      },
      "source": [
        "print(g.nodes)"
      ],
      "execution_count": 7,
      "outputs": [
        {
          "output_type": "stream",
          "text": [
            "[0, 1, 2, 3]\n"
          ],
          "name": "stdout"
        }
      ]
    },
    {
      "cell_type": "code",
      "metadata": {
        "id": "zUk-iV-IddOU",
        "colab_type": "code",
        "colab": {}
      },
      "source": [
        ""
      ],
      "execution_count": 0,
      "outputs": []
    }
  ]
}