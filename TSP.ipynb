{
  "nbformat": 4,
  "nbformat_minor": 0,
  "metadata": {
    "colab": {
      "name": "TSP",
      "provenance": [],
      "collapsed_sections": [],
      "authorship_tag": "ABX9TyMlaFPaNCQkxxAsKx/bG4c+",
      "include_colab_link": true
    },
    "kernelspec": {
      "name": "python3",
      "display_name": "Python 3"
    }
  },
  "cells": [
    {
      "cell_type": "markdown",
      "metadata": {
        "id": "view-in-github",
        "colab_type": "text"
      },
      "source": [
        "<a href=\"https://colab.research.google.com/github/gtgindia/Google-Colab-ML/blob/master/TSP.ipynb\" target=\"_parent\"><img src=\"https://colab.research.google.com/assets/colab-badge.svg\" alt=\"Open In Colab\"/></a>"
      ]
    },
    {
      "cell_type": "code",
      "metadata": {
        "id": "J0f_s9UYIGg9",
        "colab_type": "code",
        "colab": {
          "base_uri": "https://localhost:8080/",
          "height": 51
        },
        "outputId": "011c9255-301e-4835-a3a0-b9e1041489ce"
      },
      "source": [
        "!pip install networkx"
      ],
      "execution_count": 1,
      "outputs": [
        {
          "output_type": "stream",
          "text": [
            "Requirement already satisfied: networkx in /usr/local/lib/python3.6/dist-packages (2.4)\n",
            "Requirement already satisfied: decorator>=4.3.0 in /usr/local/lib/python3.6/dist-packages (from networkx) (4.4.2)\n"
          ],
          "name": "stdout"
        }
      ]
    },
    {
      "cell_type": "code",
      "metadata": {
        "id": "DnYMY_giH1Iw",
        "colab_type": "code",
        "colab": {}
      },
      "source": [
        "import networkx as nx\n",
        "from itertools import permutations\n",
        "\n",
        "# This function takes as input a graph g and a list of vertices of the cycle.\n",
        "# (Each vertex given by its index starting from 0.)\n",
        "# The graph is complete (i.e., each pair of distinct vertices is connected by an edge),\n",
        "# undirected (i.e., the edge from u to v has the same weight as the edge from v to u),\n",
        "# and has no self-loops (i.e., there are no edges from i to i).\n",
        "#\n",
        "# For example, a valid input would be a graph on 3 vertices and cycle = [2, 0, 1].\n",
        "#\n",
        "# The function should return the weight of the cycle.\n",
        "# (Don't forget to add up the last edge connecting the last vertex of the cycle with the first one.)\n",
        "#\n",
        "# If you want to get the weight of the edge between vertices u and v, you can take g[u][v]['weight']\n",
        "\n",
        "\n",
        "def cycle_length(g, cycle):\n",
        "    # Checking that the number of vertices in the graph equals the number of vertices in the cycle.\n",
        "    assert len(cycle) == g.number_of_nodes()\n",
        "    \n",
        "    \n",
        "    m = len(cycle)\n",
        "    cl=0\n",
        "    for i in range(len(cycle)-1):\n",
        "      cl = cl + g[cycle[i]][cycle[i+1]]['weight']\n",
        "    cl = cl + g[cycle[m-1]][cycle[0]]['weight']\n",
        "    \n",
        "\n",
        "    return cl\n"
      ],
      "execution_count": 0,
      "outputs": []
    },
    {
      "cell_type": "code",
      "metadata": {
        "id": "lmyQMF6ScFo1",
        "colab_type": "code",
        "colab": {}
      },
      "source": [
        "def all_permutations(g):\n",
        "\n",
        "    # n is the number of vertices.\n",
        "    n = g.number_of_nodes()\n",
        "    l =[]\n",
        "    # Iterate through all permutations of n vertices\n",
        "    for p in permutations(range(n)):\n",
        "        \n",
        "        l.append(cycle_length(g,p))\n",
        "\n",
        "\n",
        "\n",
        "    return min(l)\n",
        "    \n"
      ],
      "execution_count": 0,
      "outputs": []
    },
    {
      "cell_type": "code",
      "metadata": {
        "id": "0ol5jt-iiyzT",
        "colab_type": "code",
        "colab": {}
      },
      "source": [
        "def average(g):\n",
        "    # n is the number of vertices.\n",
        "    n = g.number_of_nodes()\n",
        "\n",
        "    # Sum of weights of all n*(n-1)/2 edges.\n",
        "    sum_of_weights = sum(g[i][j]['weight'] for i in range(n) for j in range(i))\n",
        "\n",
        "    \n",
        "    return (2*sum_of_weights)/(n-1)"
      ],
      "execution_count": 0,
      "outputs": []
    },
    {
      "cell_type": "code",
      "metadata": {
        "id": "YSj8oejIpsP0",
        "colab_type": "code",
        "colab": {}
      },
      "source": [
        "def nearest_neighbors(g):\n",
        "    current_node = 0\n",
        "    path = [current_node]\n",
        "    n = g.number_of_nodes()\n",
        "\n",
        "    # We'll repeat the same routine (n-1) times\n",
        "    for _ in range(n - 1):\n",
        "        next_node = None\n",
        "        # The distance to the closest vertex. Initialized with infinity.\n",
        "        min_edge = float(\"inf\")\n",
        "        for v in g.nodes():\n",
        "          if(current_node==v):\n",
        "            continue\n",
        "          elif(v in path):\n",
        "            continue\n",
        "          elif(g[current_node][v]['weight']< min_edge):\n",
        "            next_node = v\n",
        "            min_edge = g[current_node][v]['weight']\n",
        "            print(min_edge,current_node,v)\n",
        "            #  decide if v is a better candidate than next_node.\n",
        "            # If it is, then update the values of next_node and min_edge\n",
        "\n",
        "        assert next_node is not None\n",
        "        path.append(next_node)\n",
        "        current_node = next_node\n",
        "        print(next_node)\n",
        "\n",
        "    weight = sum(g[path[i]][path[i + 1]]['weight'] for i in range(g.number_of_nodes() - 1))\n",
        "    weight += g[path[-1]][path[0]]['weight']\n",
        "    return weight"
      ],
      "execution_count": 0,
      "outputs": []
    },
    {
      "cell_type": "code",
      "metadata": {
        "id": "pqgmltKCIAen",
        "colab_type": "code",
        "colab": {
          "base_uri": "https://localhost:8080/",
          "height": 221
        },
        "outputId": "472a3628-879d-44da-97ee-28b6f2faaee1"
      },
      "source": [
        "\n",
        "\n",
        "# Here is a test case:\n",
        "# Create an empty graph. \n",
        "g = nx.Graph()\n",
        "# Now we will add 6 edges between 4 vertices\n",
        "g.add_edge(0, 1, weight = 2)\n",
        "# We work with undirected graphs, so once we add an edge from 0 to 1, it automatically creates an edge of the same weight from 1 to 0.\n",
        "g.add_edge(1, 2, weight = 2)\n",
        "g.add_edge(2, 3, weight = 2)\n",
        "g.add_edge(3, 0, weight = 2)\n",
        "g.add_edge(0, 2, weight = 1)\n",
        "g.add_edge(1, 3, weight = 1)\n",
        "\n",
        "# Now we want to compute the lengths of two cycles:\n",
        "cycle1 = [0, 1, 2, 3]\n",
        "cycle2 = [0, 2, 1, 3]\n",
        "\n",
        "\n",
        "\n",
        "print(\"Lenght of cycle1 is  :\",cycle_length(g,cycle1))\n",
        "print(\"Lenght of cycle2 is  :\",cycle_length(g,cycle2))\n",
        "print(\"Mnimum Length by brute force method is :\",all_permutations(g))\n",
        "print(\"Average Hamiltonian Distance in the graph is   :\",average(g))\n",
        "print(\"Mnimum Length by nearest neighbors method is :\"nearest_neighbors(g))"
      ],
      "execution_count": 102,
      "outputs": [
        {
          "output_type": "stream",
          "text": [
            "8\n",
            "6\n",
            "6\n",
            "6.666666666666667\n",
            "2 0 1\n",
            "1 0 2\n",
            "2\n",
            "2 2 1\n",
            "1\n",
            "1 1 3\n",
            "3\n",
            "6\n"
          ],
          "name": "stdout"
        }
      ]
    },
    {
      "cell_type": "code",
      "metadata": {
        "id": "4BQ545PsI0Q4",
        "colab_type": "code",
        "colab": {
          "base_uri": "https://localhost:8080/",
          "height": 34
        },
        "outputId": "a1322634-2557-44ad-caad-7619937c1f72"
      },
      "source": [
        "print(g.nodes)"
      ],
      "execution_count": 41,
      "outputs": [
        {
          "output_type": "stream",
          "text": [
            "[0, 1, 2, 3]\n"
          ],
          "name": "stdout"
        }
      ]
    },
    {
      "cell_type": "code",
      "metadata": {
        "id": "zUk-iV-IddOU",
        "colab_type": "code",
        "colab": {}
      },
      "source": [
        ""
      ],
      "execution_count": 0,
      "outputs": []
    }
  ]
}